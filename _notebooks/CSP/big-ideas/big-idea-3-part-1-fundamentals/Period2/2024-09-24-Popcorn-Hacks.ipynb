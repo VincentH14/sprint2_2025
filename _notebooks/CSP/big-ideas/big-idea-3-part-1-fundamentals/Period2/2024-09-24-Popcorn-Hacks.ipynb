{
 "cells": [
  {
   "cell_type": "markdown",
   "metadata": {},
   "source": [
    "# 3.7 Nested Conditionals \n",
    "\n",
    "A supplemental blog on nested conditionals. Learn how nested conditionals allow for more complex decision-making by enabling multiple levels of conditions than regular conditionals.\n",
    "\n"
   ]
  },
  {
   "cell_type": "markdown",
   "metadata": {},
   "source": [
    "# Nested Conditionals\n"
   ]
  },
  {
   "cell_type": "markdown",
   "metadata": {},
   "source": [
    "# Introduction\n",
    "Nested conditionals happen when one \"if\" statement is inside another. This helps programs make more detailed decisions and handle more situations."
   ]
  },
  {
   "cell_type": "markdown",
   "metadata": {},
   "source": [
    "# Objectives\n",
    "By the end of this lesson, students should be able to:\n",
    "\n",
    "1.Understand what nested conditionals are.\n",
    "\n",
    "2.Write simple steps (pseudocode) using nested \"if\" statements.\n",
    "\n",
    "3.Use nested conditionals to solve problems."
   ]
  },
  {
   "cell_type": "markdown",
   "metadata": {},
   "source": [
    "# Key Concepts\n",
    "\n",
    "1. **Conditional Statements** : Used to do different things based on different conditions.\n",
    "\n",
    "2. **Nested Conditionals** : An \"if\" statement inside another \"if\" statement."
   ]
  },
  {
   "cell_type": "markdown",
   "metadata": {},
   "source": [
    "# Example Syntax (College Board Pseudocode)\n",
    "College Board pseudocode uses the following structure for conditional statements:"
   ]
  },
  {
   "cell_type": "code",
   "execution_count": null,
   "metadata": {},
   "outputs": [],
   "source": [
    "\n",
    "if condition1:\n",
    "    if condition2:\n",
    "        # Code block for condition2 is true\n",
    "    else:\n",
    "        # Code block if condition2 is false\n",
    "else:\n",
    "    # Code block if condition1 is false\n",
    "\n",
    "# Example 1: Checking Grade Categories\n",
    "score = int(input(\"Enter the score: \"))\n",
    "\n",
    "if score >= 90:\n",
    "    print(\"A\")\n",
    "else:\n",
    "    if score >= 80:\n",
    "        print(\"B\")\n",
    "    else:\n",
    "        if score >= 70:\n",
    "            print(\"C\")\n",
    "        else:\n",
    "            if score >= 60:\n",
    "                print(\"D\")\n",
    "            else:\n",
    "                print(\"F\")\n"
   ]
  }
 ],
 "metadata": {
  "kernelspec": {
   "display_name": "venv",
   "language": "python",
   "name": "python3"
  },
  "language_info": {
   "codemirror_mode": {
    "name": "ipython",
    "version": 3
   },
   "file_extension": ".py",
   "mimetype": "text/x-python",
   "name": "python",
   "nbconvert_exporter": "python",
   "pygments_lexer": "ipython3",
   "version": "3.12.5"
  }
 },
 "nbformat": 4,
 "nbformat_minor": 2
}
