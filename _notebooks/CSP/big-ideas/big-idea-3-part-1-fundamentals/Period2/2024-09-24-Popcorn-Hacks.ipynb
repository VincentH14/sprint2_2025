{
 "cells": [
  {
   "cell_type": "markdown",
   "metadata": {},
   "source": [
    "# 3.7 Nested Conditionals \n",
    "\n",
    "<head>\n",
    "<style>\n",
    " ul li {\n",
    "    margin-bottom: 10px;\n",
    "  }\n",
    "</style>\n",
    "</head>\n",
    "<ul>\n",
    "  <li> A supplemental blog on nested conditionals. Learn how nested conditionals allow for more complex decision-making by enabling multiple levels of conditions than regular conditionals.</li>\n",
    "</ul> \n",
    "\n",
    "\n"
   ]
  },
  {
   "cell_type": "markdown",
   "metadata": {},
   "source": [
    "# Nested Conditionals\n"
   ]
  },
  {
   "cell_type": "markdown",
   "metadata": {},
   "source": [
    "# Introduction\n",
    "Nested conditionals happen when one \"if\" statement is inside another. This helps programs make more detailed decisions and handle more situations."
   ]
  },
  {
   "cell_type": "markdown",
   "metadata": {},
   "source": [
    "# Objectives\n",
    "By the end of this lesson, students should be able to:\n",
    "\n",
    "1.Understand what nested conditionals are.\n",
    "\n",
    "2.Write simple steps (pseudocode) using nested \"if\" statements.\n",
    "\n",
    "3.Use nested conditionals to solve problems."
   ]
  },
  {
   "cell_type": "markdown",
   "metadata": {},
   "source": [
    "# Key Concepts\n",
    "\n",
    "1. **Conditional Statements** : Used to do different things based on different conditions.\n",
    "\n",
    "2. **Nested Conditionals** : An \"if\" statement inside another \"if\" statement."
   ]
  },
  {
   "cell_type": "markdown",
   "metadata": {},
   "source": [
    "# Example Syntax (College Board Pseudocode)\n",
    "\n",
    "<head>\n",
    "<style>\n",
    " ul li {\n",
    "    margin-bottom: 10px;\n",
    "  }\n",
    "</style>\n",
    "</head>\n",
    "<ul>\n",
    "  <li> College Board pseudocode uses the following structure for conditional statements:</li>\n",
    "</ul>  \n"
   ]
  },
  {
   "cell_type": "markdown",
   "metadata": {},
   "source": [
    "## Nested if code structure\n",
    "\n",
    "<head>\n",
    "<style>\n",
    " ul li {\n",
    "    margin-bottom: 10px;\n",
    "  }\n",
    "</style>\n",
    "</head>\n",
    "<ul>\n",
    "  <li> Example show general code structure for next if conditions</li>\n",
    "</ul>  \n",
    "\n",
    "\n",
    "```python\n",
    "\n",
    "if condition1:\n",
    "    if condition2:\n",
    "        # Code block for condition2 is true\n",
    "    else:\n",
    "        # Code block if condition2 is false\n",
    "else:\n",
    "    # Code block if condition1 is false\n",
    "\n",
    "```"
   ]
  },
  {
   "cell_type": "code",
   "execution_count": 41,
   "metadata": {},
   "outputs": [
    {
     "name": "stdout",
     "output_type": "stream",
     "text": [
      "C\n"
     ]
    }
   ],
   "source": [
    "score = int(input(\"Enter the score: \"))\n",
    "\n",
    "if score >= 90:\n",
    "    print(\"A\")\n",
    "else:\n",
    "    if score >= 80:\n",
    "        print(\"B\")\n",
    "    else:\n",
    "        if score >= 70:\n",
    "            print(\"C\")\n",
    "        else:\n",
    "            if score >= 60:\n",
    "                print(\"D\")\n",
    "            else:\n",
    "                print(\"F\")\n"
   ]
  },
  {
   "cell_type": "markdown",
   "metadata": {},
   "source": [
    "# Pseudocode\n",
    "\n",
    "Let’s consider a scenario where we determine if a person is eligible for a loan based on their credit score and income:\n"
   ]
  },
  {
   "cell_type": "markdown",
   "metadata": {},
   "source": [
    "# Python \n",
    "Here is the equivalent Python code:"
   ]
  },
  {
   "cell_type": "code",
   "execution_count": 23,
   "metadata": {},
   "outputs": [
    {
     "name": "stdout",
     "output_type": "stream",
     "text": [
      "Not eligible for loan due to low credit score\n"
     ]
    }
   ],
   "source": [
    "credit_score = 100  \n",
    "income = 10000      \n",
    "\n",
    "if credit_score < 700:\n",
    "    print(\"Not eligible for loan due to low credit score\")\n",
    "elif income < 50000:\n",
    "    print(\"Not eligible for loan due to low income\")\n",
    "else:\n",
    "    print(\"Eligible for loan\")\n"
   ]
  },
  {
   "cell_type": "markdown",
   "metadata": {},
   "source": [
    "# Example 3: \n",
    "<head>\n",
    "<style>\n",
    " ul li {\n",
    "    margin-bottom: 10px;\n",
    "  }\n",
    "</style>\n",
    "</head>\n",
    "<ul>\n",
    "  <li> Write pseudocode to determine if a person qualifies for a discount based on their membership status and purchase amount:</li>\n",
    "  <li>if the person is a member: </li>\n",
    "  <li>If someone is a member and spends more than $100, they get a 20% discount. If they spend $100 or less, they get a 10% discount. </li>\n",
    "  <li>If they're not a member and spend more than $100, they get a 5% discount. If they spend $100 or less, they don’t get any discount. </li>\n",
    "</ul> \n"
   ]
  },
  {
   "cell_type": "code",
   "execution_count": 42,
   "metadata": {},
   "outputs": [
    {
     "name": "stdout",
     "output_type": "stream",
     "text": [
      "20% discount\n"
     ]
    }
   ],
   "source": [
    "# Define is_member and purchase_amount\n",
    "is_member = True  # Set to True if the person is a member, False if not\n",
    "purchase_amount = 120  # Replace with the actual purchase amount\n",
    "\n",
    "# Check conditions and display the appropriate discount\n",
    "if is_member == True and purchase_amount > 100:\n",
    "    print(\"20% discount\")\n",
    "elif is_member == True and purchase_amount <= 100:\n",
    "    print(\"10% discount\")\n",
    "elif is_member == False and purchase_amount > 100:\n",
    "    print(\"5% discount\")\n",
    "else:\n",
    "    print(\"No discount\")\n",
    "\n"
   ]
  },
  {
   "cell_type": "markdown",
   "metadata": {},
   "source": [
    "# Hacks\n",
    "\n",
    "<head>\n",
    "<style>\n",
    " ul li {\n",
    "    margin-bottom: 10px;\n",
    "  }\n",
    "</style>\n",
    "</head>\n",
    "<ul>\n",
    "  <li> Create pseudocode to evaluate whether a student passes a course, considering both their exam grades and attendance record, using nested if-statements.</li>\n",
    "  <li> Write a Python code block to calculate the shipping fee based on the package's weight and the selected delivery option (standard or express), also using nested if-statements.</li>\n",
    "</ul>  "
   ]
  },
  {
   "cell_type": "markdown",
   "metadata": {},
   "source": []
  }
 ],
 "metadata": {
  "kernelspec": {
   "display_name": "venv",
   "language": "python",
   "name": "python3"
  },
  "language_info": {
   "codemirror_mode": {
    "name": "ipython",
    "version": 3
   },
   "file_extension": ".py",
   "mimetype": "text/x-python",
   "name": "python",
   "nbconvert_exporter": "python",
   "pygments_lexer": "ipython3",
   "version": "3.12.5"
  }
 },
 "nbformat": 4,
 "nbformat_minor": 2
}
